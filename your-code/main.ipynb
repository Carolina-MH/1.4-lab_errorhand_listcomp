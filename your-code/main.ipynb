{
 "cells": [
  {
   "cell_type": "markdown",
   "id": "576731f7",
   "metadata": {},
   "source": [
    "**Example:**\n",
    "\n",
    "eggs = (1,3,8,3,2)\n",
    "\n",
    "my_listComprehension = [1/egg for egg in eggs]\n",
    "\n",
    "print(my_listComprehension)\n"
   ]
  },
  {
   "cell_type": "markdown",
   "id": "cf2623ae",
   "metadata": {},
   "source": [
    "# Insert here the module/library import statements "
   ]
  },
  {
   "cell_type": "code",
   "execution_count": 27,
   "id": "1cde06bb",
   "metadata": {},
   "outputs": [],
   "source": [
    "import statistics\n",
    "import numpy\n",
    "import math\n"
   ]
  },
  {
   "cell_type": "markdown",
   "id": "59d96563",
   "metadata": {},
   "source": [
    "\n",
    "# Calculate the square number of the first 20 numbers. Use square as the name of the list.\n",
    "Remember to use list comprehensions and to print your results"
   ]
  },
  {
   "cell_type": "markdown",
   "id": "1207cb2c",
   "metadata": {},
   "source": []
  },
  {
   "cell_type": "code",
   "execution_count": 28,
   "id": "984ac556",
   "metadata": {},
   "outputs": [
    {
     "name": "stdout",
     "output_type": "stream",
     "text": [
      "[1, 4, 9, 16, 25, 36, 49, 64, 81, 100, 121, 144, 169, 196, 225, 256, 289, 324, 361, 400]\n"
     ]
    }
   ],
   "source": [
    "square= []\n",
    "for num in range (1,21):\n",
    "    square.append(num**2)\n",
    "print(square)\n"
   ]
  },
  {
   "cell_type": "code",
   "execution_count": 29,
   "id": "1aa49973",
   "metadata": {},
   "outputs": [
    {
     "name": "stdout",
     "output_type": "stream",
     "text": [
      "[1, 4, 9, 16, 25, 36, 49, 64, 81, 100, 121, 144, 169, 196, 225, 256, 289, 324, 361, 400]\n"
     ]
    }
   ],
   "source": [
    "square=[num**2 for num in range (1,21)]\n",
    "print(square)"
   ]
  },
  {
   "cell_type": "markdown",
   "id": "b421e0cb",
   "metadata": {},
   "source": [
    "# Calculate the square root of the first 100 numbers. Use sqrt as the name of the list.\n",
    "You will probably need to install math library with pip and import it in this file.\n",
    "\n",
    "Remember to use list comprehensions and to print your results\n"
   ]
  },
  {
   "cell_type": "code",
   "execution_count": 30,
   "id": "c047115a",
   "metadata": {
    "scrolled": true
   },
   "outputs": [
    {
     "name": "stdout",
     "output_type": "stream",
     "text": [
      "[1.0, 1.4142135623730951, 1.7320508075688772, 2.0, 2.23606797749979, 2.449489742783178, 2.6457513110645907, 2.8284271247461903, 3.0, 3.1622776601683795, 3.3166247903554, 3.4641016151377544, 3.605551275463989, 3.7416573867739413, 3.872983346207417, 4.0, 4.123105625617661, 4.242640687119285, 4.358898943540674, 4.47213595499958, 4.58257569495584, 4.69041575982343, 4.795831523312719, 4.898979485566356, 5.0, 5.0990195135927845, 5.196152422706632, 5.291502622129181, 5.385164807134504, 5.477225575051661, 5.5677643628300215, 5.656854249492381, 5.744562646538029, 5.830951894845301, 5.916079783099616, 6.0, 6.082762530298219, 6.164414002968976, 6.244997998398398, 6.324555320336759, 6.4031242374328485, 6.48074069840786, 6.557438524302, 6.6332495807108, 6.708203932499369, 6.782329983125268, 6.855654600401044, 6.928203230275509, 7.0, 7.0710678118654755, 7.14142842854285, 7.211102550927978, 7.280109889280518, 7.3484692283495345, 7.416198487095663, 7.483314773547883, 7.54983443527075, 7.615773105863909, 7.681145747868608, 7.745966692414834, 7.810249675906654, 7.874007874011811, 7.937253933193772, 8.0, 8.06225774829855, 8.12403840463596, 8.18535277187245, 8.246211251235321, 8.306623862918075, 8.366600265340756, 8.426149773176359, 8.48528137423857, 8.54400374531753, 8.602325267042627, 8.660254037844387, 8.717797887081348, 8.774964387392123, 8.831760866327848, 8.888194417315589, 8.94427190999916, 9.0, 9.055385138137417, 9.1104335791443, 9.16515138991168, 9.219544457292887, 9.273618495495704, 9.327379053088816, 9.38083151964686, 9.433981132056603, 9.486832980505138, 9.539392014169456, 9.591663046625438, 9.643650760992955, 9.695359714832659, 9.746794344808963, 9.797958971132712, 9.848857801796104, 9.899494936611665, 9.9498743710662, 10.0]\n"
     ]
    }
   ],
   "source": [
    "sqrt= []\n",
    "for num in range (1,101):\n",
    "    raiz_cuadrada=math.sqrt(num)\n",
    "    sqrt.append(raiz_cuadrada)\n",
    "print(sqrt)"
   ]
  },
  {
   "cell_type": "code",
   "execution_count": 31,
   "id": "54d7e214",
   "metadata": {},
   "outputs": [
    {
     "name": "stdout",
     "output_type": "stream",
     "text": [
      "[1.0, 1.4142135623730951, 1.7320508075688772, 2.0, 2.23606797749979, 2.449489742783178, 2.6457513110645907, 2.8284271247461903, 3.0, 3.1622776601683795, 3.3166247903554, 3.4641016151377544, 3.605551275463989, 3.7416573867739413, 3.872983346207417, 4.0, 4.123105625617661, 4.242640687119285, 4.358898943540674, 4.47213595499958, 4.58257569495584, 4.69041575982343, 4.795831523312719, 4.898979485566356, 5.0, 5.0990195135927845, 5.196152422706632, 5.291502622129181, 5.385164807134504, 5.477225575051661, 5.5677643628300215, 5.656854249492381, 5.744562646538029, 5.830951894845301, 5.916079783099616, 6.0, 6.082762530298219, 6.164414002968976, 6.244997998398398, 6.324555320336759, 6.4031242374328485, 6.48074069840786, 6.557438524302, 6.6332495807108, 6.708203932499369, 6.782329983125268, 6.855654600401044, 6.928203230275509, 7.0, 7.0710678118654755, 7.14142842854285, 7.211102550927978, 7.280109889280518, 7.3484692283495345, 7.416198487095663, 7.483314773547883, 7.54983443527075, 7.615773105863909, 7.681145747868608, 7.745966692414834, 7.810249675906654, 7.874007874011811, 7.937253933193772, 8.0, 8.06225774829855, 8.12403840463596, 8.18535277187245, 8.246211251235321, 8.306623862918075, 8.366600265340756, 8.426149773176359, 8.48528137423857, 8.54400374531753, 8.602325267042627, 8.660254037844387, 8.717797887081348, 8.774964387392123, 8.831760866327848, 8.888194417315589, 8.94427190999916, 9.0, 9.055385138137417, 9.1104335791443, 9.16515138991168, 9.219544457292887, 9.273618495495704, 9.327379053088816, 9.38083151964686, 9.433981132056603, 9.486832980505138, 9.539392014169456, 9.591663046625438, 9.643650760992955, 9.695359714832659, 9.746794344808963, 9.797958971132712, 9.848857801796104, 9.899494936611665, 9.9498743710662, 10.0]\n"
     ]
    }
   ],
   "source": [
    "sqrt=[math.sqrt(num) for num in range (1,101)]\n",
    "print(sqrt)"
   ]
  },
  {
   "cell_type": "markdown",
   "id": "f4bfca8d",
   "metadata": {},
   "source": [
    "\n",
    "# Create this list [-10,-9,-8,-7,-6,-5,-4,-3,-2,-1,0]. Use my_list as the name of the list.\n",
    "Remember to use list comprehensions and to print your results"
   ]
  },
  {
   "cell_type": "code",
   "execution_count": 32,
   "id": "e23d87ea",
   "metadata": {},
   "outputs": [
    {
     "name": "stdout",
     "output_type": "stream",
     "text": [
      "[-10, -9, -8, -7, -6, -5, -4, -3, -2, -1, 0]\n"
     ]
    }
   ],
   "source": [
    "my_list=[]\n",
    "for num in range(-10,1):\n",
    "    my_list.append(num)\n",
    "print(my_list)"
   ]
  },
  {
   "cell_type": "code",
   "execution_count": 33,
   "id": "0ef47618",
   "metadata": {},
   "outputs": [
    {
     "name": "stdout",
     "output_type": "stream",
     "text": [
      "[-10, -9, -8, -7, -6, -5, -4, -3, -2, -1, 0]\n"
     ]
    }
   ],
   "source": [
    "my_list=[num for num in range(-10,1)]\n",
    "print(my_list)"
   ]
  },
  {
   "cell_type": "markdown",
   "id": "62592d9c",
   "metadata": {},
   "source": [
    "\n",
    "# Find the odd numbers from 1-100. Use odds as the name of the list. \n",
    "Remember to use list comprehensions and to print your results"
   ]
  },
  {
   "cell_type": "code",
   "execution_count": 34,
   "id": "d8d1c865",
   "metadata": {},
   "outputs": [
    {
     "name": "stdout",
     "output_type": "stream",
     "text": [
      "[1, 3, 5, 7, 9, 11, 13, 15, 17, 19, 21, 23, 25, 27, 29, 31, 33, 35, 37, 39, 41, 43, 45, 47, 49, 51, 53, 55, 57, 59, 61, 63, 65, 67, 69, 71, 73, 75, 77, 79, 81, 83, 85, 87, 89, 91, 93, 95, 97, 99]\n"
     ]
    }
   ],
   "source": [
    "odds=[]\n",
    "for num in range(1,101):\n",
    "    if num %2!=0:\n",
    "        odds.append(num)\n",
    "print(odds)"
   ]
  },
  {
   "cell_type": "code",
   "execution_count": 35,
   "id": "9d2e2bd0",
   "metadata": {},
   "outputs": [
    {
     "name": "stdout",
     "output_type": "stream",
     "text": [
      "[1, 3, 5, 7, 9, 11, 13, 15, 17, 19, 21, 23, 25, 27, 29, 31, 33, 35, 37, 39, 41, 43, 45, 47, 49, 51, 53, 55, 57, 59, 61, 63, 65, 67, 69, 71, 73, 75, 77, 79, 81, 83, 85, 87, 89, 91, 93, 95, 97, 99]\n"
     ]
    }
   ],
   "source": [
    "odds=[num for num in range(1,101) if num %2!=0]\n",
    "print(odds)"
   ]
  },
  {
   "cell_type": "markdown",
   "id": "d8b74c2a",
   "metadata": {},
   "source": [
    "# Find all of the numbers from 1-1000 that are divisible by 7. Use divisible_by_seven as the name of the list.\n",
    "Remember to use list comprehensions and to print your results"
   ]
  },
  {
   "cell_type": "code",
   "execution_count": 36,
   "id": "6a9cfb8c",
   "metadata": {},
   "outputs": [
    {
     "name": "stdout",
     "output_type": "stream",
     "text": [
      "[7, 14, 21, 28, 35, 42, 49, 56, 63, 70, 77, 84, 91, 98, 105, 112, 119, 126, 133, 140, 147, 154, 161, 168, 175, 182, 189, 196, 203, 210, 217, 224, 231, 238, 245, 252, 259, 266, 273, 280, 287, 294, 301, 308, 315, 322, 329, 336, 343, 350, 357, 364, 371, 378, 385, 392, 399, 406, 413, 420, 427, 434, 441, 448, 455, 462, 469, 476, 483, 490, 497, 504, 511, 518, 525, 532, 539, 546, 553, 560, 567, 574, 581, 588, 595, 602, 609, 616, 623, 630, 637, 644, 651, 658, 665, 672, 679, 686, 693, 700, 707, 714, 721, 728, 735, 742, 749, 756, 763, 770, 777, 784, 791, 798, 805, 812, 819, 826, 833, 840, 847, 854, 861, 868, 875, 882, 889, 896, 903, 910, 917, 924, 931, 938, 945, 952, 959, 966, 973, 980, 987, 994]\n"
     ]
    }
   ],
   "source": [
    "divisible_by_seven=[]\n",
    "for num in range (1, 1001):\n",
    "    if num %7==0:\n",
    "        divisible_by_seven.append(num)\n",
    "print(divisible_by_seven)\n",
    "        "
   ]
  },
  {
   "cell_type": "code",
   "execution_count": 37,
   "id": "baf415b0",
   "metadata": {},
   "outputs": [
    {
     "name": "stdout",
     "output_type": "stream",
     "text": [
      "[7, 14, 21, 28, 35, 42, 49, 56, 63, 70, 77, 84, 91, 98, 105, 112, 119, 126, 133, 140, 147, 154, 161, 168, 175, 182, 189, 196, 203, 210, 217, 224, 231, 238, 245, 252, 259, 266, 273, 280, 287, 294, 301, 308, 315, 322, 329, 336, 343, 350, 357, 364, 371, 378, 385, 392, 399, 406, 413, 420, 427, 434, 441, 448, 455, 462, 469, 476, 483, 490, 497, 504, 511, 518, 525, 532, 539, 546, 553, 560, 567, 574, 581, 588, 595, 602, 609, 616, 623, 630, 637, 644, 651, 658, 665, 672, 679, 686, 693, 700, 707, 714, 721, 728, 735, 742, 749, 756, 763, 770, 777, 784, 791, 798, 805, 812, 819, 826, 833, 840, 847, 854, 861, 868, 875, 882, 889, 896, 903, 910, 917, 924, 931, 938, 945, 952, 959, 966, 973, 980, 987, 994]\n"
     ]
    }
   ],
   "source": [
    "divisible_by_seven=[num for num in range (1,1001) if num %7==0]\n",
    "print(divisible_by_seven)"
   ]
  },
  {
   "cell_type": "markdown",
   "id": "6e6f21e0",
   "metadata": {},
   "source": [
    "# Remove all of the vowels in a string. Hint: make a list of the non-vowels. Use non_vowels as the name of the list.\n",
    "Remember to use list comprehensions and to print your results"
   ]
  },
  {
   "cell_type": "code",
   "execution_count": 38,
   "id": "43b38bd3",
   "metadata": {},
   "outputs": [],
   "source": [
    "# You can use the following test string but feel free to modify at your convenience\n",
    "\n",
    "teststring = 'Find all of the words in a string that are monosyllabic'"
   ]
  },
  {
   "cell_type": "code",
   "execution_count": 39,
   "id": "ac287cc8",
   "metadata": {
    "scrolled": false
   },
   "outputs": [
    {
     "name": "stdout",
     "output_type": "stream",
     "text": [
      "Fnd ll f th wrds n  strng tht r mnsyllbc\n"
     ]
    }
   ],
   "source": [
    "vowels=['A','E','I','O','U']\n",
    "teststring='Find all of the words in a string that are monosyllabic'\n",
    "non_vowels=[]\n",
    "for letter in teststring:\n",
    "    if letter.upper() not in vowels:\n",
    "        non_vowels.append(letter)\n",
    "        \n",
    "resultado = ''.join(non_vowels)\n",
    "print(resultado)"
   ]
  },
  {
   "cell_type": "code",
   "execution_count": 40,
   "id": "10f76d6b",
   "metadata": {},
   "outputs": [
    {
     "name": "stdout",
     "output_type": "stream",
     "text": [
      "Fnd ll f th wrds n  strng tht r mnsyllbc\n"
     ]
    }
   ],
   "source": [
    "non_vowels=''.join([letter for letter in teststring if letter.upper() not in vowels])\n",
    "print(non_vowels)"
   ]
  },
  {
   "cell_type": "markdown",
   "id": "277d491e",
   "metadata": {},
   "source": [
    "# Find the capital letters (and not white space) in the sentence 'The Quick Brown Fox Jumped Over The Lazy Dog'. \n",
    "- **Use capital_letters as the name of the list.**\n",
    "\n",
    "Remember to use list comprehensions and to print your results"
   ]
  },
  {
   "cell_type": "code",
   "execution_count": 41,
   "id": "3a43399c",
   "metadata": {},
   "outputs": [
    {
     "name": "stdout",
     "output_type": "stream",
     "text": [
      "Fnd ll f th wrds n  strng tht r mnsyllbc\n"
     ]
    }
   ],
   "source": [
    "sentence= 'The Quick Brown Fox Jumped Over The Lazy Dog'\n",
    "capital_letters=[]\n",
    "for letter in sentence:\n",
    "    if letter == letter.upper():\n",
    "        capital_letters.append(letter)\n",
    "    if letter == letter.lower():\n",
    "        pass\n",
    "resulto = ''.join(capital_letters)\n",
    "print(resultado)"
   ]
  },
  {
   "cell_type": "code",
   "execution_count": 42,
   "id": "903daf72",
   "metadata": {},
   "outputs": [
    {
     "name": "stdout",
     "output_type": "stream",
     "text": [
      "T Q B F J O T L D\n"
     ]
    }
   ],
   "source": [
    "capital_letter=''.join([letter for letter in sentence if letter == letter.upper()])\n",
    "print(capital_letter)"
   ]
  },
  {
   "cell_type": "markdown",
   "id": "c2603719",
   "metadata": {},
   "source": [
    "# Find all the consonants in the sentence 'The quick brown fox jumped over the lazy dog'.\n",
    " - **Use consonants as the name of the list.**\n",
    " \n",
    "Remember to use list comprehensions and to print your results.\n"
   ]
  },
  {
   "cell_type": "code",
   "execution_count": 43,
   "id": "3ddb68df",
   "metadata": {},
   "outputs": [
    {
     "name": "stdout",
     "output_type": "stream",
     "text": [
      "Thqckbrwnfxjmpdvrthlzydg\n"
     ]
    }
   ],
   "source": [
    "sentence= 'The quick brown fox jumped over the lazy dog'\n",
    "consonants=[]\n",
    "consonante=['q','w','r','t','y','p','s','d','f','g','h','j','k','l','z','x','c','v','b','n','m']\n",
    "for letter in sentence:\n",
    "    if letter.upper() in consonante:\n",
    "        consonants.append(letter)\n",
    "    if letter.lower() in consonante:\n",
    "        consonants.append(letter)\n",
    "        \n",
    "resultado= \"\".join(consonants)\n",
    "print(resultado)"
   ]
  },
  {
   "cell_type": "code",
   "execution_count": 44,
   "id": "7baeaf20",
   "metadata": {},
   "outputs": [
    {
     "name": "stdout",
     "output_type": "stream",
     "text": [
      "Thqckbrwnfxjmpdvrthlzydg\n"
     ]
    }
   ],
   "source": [
    "consonants=\"\".join([letter for letter in sentence if letter.upper() in consonante or letter.lower() in consonante])\n",
    "print(consonants)"
   ]
  },
  {
   "cell_type": "markdown",
   "id": "0f9c4004",
   "metadata": {},
   "source": [
    "# Find the folders you have in your madrid-oct-2018 local repo. Use files as name of the list.  \n",
    "\n",
    "**Hint: You will probably need to import os library and some of its modules. You will need to make some online research.**\n",
    "\n",
    "Remember to use list comprehensions and to print your results."
   ]
  },
  {
   "cell_type": "code",
   "execution_count": 45,
   "id": "f374c0e7",
   "metadata": {},
   "outputs": [
    {
     "name": "stdout",
     "output_type": "stream",
     "text": [
      "['.ipynb_checkpoints', '1.1-lab_bash', '1.1-lab_git', '1.2-lab_list_comprehension', '1.2-lab_tuple_set_dict', '1.3-lab_bags_of_words', '1.3-lab_functions', '1.4-lab_errorhand_listcomp', '1.4-lab_map_reduce_filter', '1.5-lab_vikings', 'apuntes_clase', 'apuntes_clase_apuntesCarol']\n"
     ]
    }
   ],
   "source": [
    "import os\n",
    "madrid_oct_2018_local_repo = r'C:/Users/carol/Ironhack' \n",
    "files = []                                       \n",
    "for item in os.listdir(madrid_oct_2018_local_repo):\n",
    "    if os.path.isdir(os.path.join(madrid_oct_2018_local_repo, item)):\n",
    "        files.append(item)\n",
    "print(files)\n"
   ]
  },
  {
   "cell_type": "markdown",
   "id": "2cdaa518",
   "metadata": {},
   "source": [
    "# Create 4 lists of 10 random numbers between 0 and 100 each. Use random_lists as the name of the list. \n",
    "**Hint: You will probably need to import random module**\n",
    "\n",
    "Remember to use list comprehensions and to print your results"
   ]
  },
  {
   "cell_type": "code",
   "execution_count": 46,
   "id": "120b29bd",
   "metadata": {},
   "outputs": [
    {
     "name": "stdout",
     "output_type": "stream",
     "text": [
      "[[36, 96, 30, 44, 81, 69, 100, 35, 23, 25], [94, 7, 75, 46, 8, 49, 88, 77, 63, 6], [32, 0, 98, 7, 95, 47, 58, 80, 7, 59], [57, 85, 42, 76, 21, 91, 52, 89, 13, 20]]\n"
     ]
    }
   ],
   "source": [
    "import random \n",
    "random_lists=[]\n",
    "for num in range(4):\n",
    "    nueva_lista=[]\n",
    "    for num in range(10):\n",
    "        random_number=random.randint(0,101)\n",
    "        nueva_lista.append(random_number)\n",
    "    random_lists.append(nueva_lista)    \n",
    "        \n",
    "print(random_lists)"
   ]
  },
  {
   "cell_type": "markdown",
   "id": "b76ea171",
   "metadata": {},
   "source": [
    "# Flatten the following list of lists. Use flatten_list as the name of the output.\n",
    "\n",
    "Remember to use list comprehensions and to print your results\n"
   ]
  },
  {
   "cell_type": "code",
   "execution_count": 47,
   "id": "b3afebb7",
   "metadata": {},
   "outputs": [],
   "source": [
    "list_of_lists = [[1,2,3],[4,5,6],[7,8,9]]\n",
    "flatten_list= []\n",
    "for sublista in list_of_lists:\n",
    "    for elemento in sublista:\n",
    "        flatten_list.append(elemento)"
   ]
  },
  {
   "cell_type": "code",
   "execution_count": 48,
   "id": "b6bcef37",
   "metadata": {},
   "outputs": [
    {
     "name": "stdout",
     "output_type": "stream",
     "text": [
      "[7, 8, 9, 7, 8, 9, 7, 8, 9]\n"
     ]
    }
   ],
   "source": [
    "flatten_list=[elemento for sublita in list_of_lists for elemento in sublista]\n",
    "print(flatten_list)"
   ]
  },
  {
   "cell_type": "markdown",
   "id": "53c86611",
   "metadata": {},
   "source": [
    "\n",
    "# Convert the numbers of the following nested list to floats. Use floats as the name of the list. \n",
    "\n",
    "Remember to use list comprehensions and to print your results."
   ]
  },
  {
   "cell_type": "code",
   "execution_count": 49,
   "id": "7087f44e",
   "metadata": {},
   "outputs": [],
   "source": [
    "list_of_lists = [['40', '20', '10', '30'], ['20', '20', '20', '20', '20', '30', '20'], \\\n",
    "['30', '20', '30', '50', '10', '30', '20', '20', '20'], ['100', '100'], ['100', '100', '100', '100', '100'], \\\n",
    "['100', '100', '100', '100']]"
   ]
  },
  {
   "cell_type": "code",
   "execution_count": 53,
   "id": "a932aff5",
   "metadata": {},
   "outputs": [],
   "source": [
    "float_list=[]\n",
    "for sublista in list_of_lists:\n",
    "    for elemento in sublista:\n",
    "        float_list.append(float(elemento))"
   ]
  },
  {
   "cell_type": "code",
   "execution_count": 55,
   "id": "a0e0de03",
   "metadata": {},
   "outputs": [
    {
     "name": "stdout",
     "output_type": "stream",
     "text": [
      "[[40.0, 20.0, 10.0, 30.0], [20.0, 20.0, 20.0, 20.0, 20.0, 30.0, 20.0], [30.0, 20.0, 30.0, 50.0, 10.0, 30.0, 20.0, 20.0, 20.0], [100.0, 100.0], [100.0, 100.0, 100.0, 100.0, 100.0], [100.0, 100.0, 100.0, 100.0]]\n"
     ]
    }
   ],
   "source": [
    "float_list=[[float (elemento) for elemento in sublista] for sublista in list_of_lists]\n",
    "print(float_list)"
   ]
  },
  {
   "cell_type": "markdown",
   "id": "62272da6",
   "metadata": {},
   "source": [
    "# Handle the exception thrown by the code below by using try and except blocks. \n"
   ]
  },
  {
   "cell_type": "code",
   "execution_count": 56,
   "id": "b5980ab4",
   "metadata": {},
   "outputs": [
    {
     "ename": "TypeError",
     "evalue": "unsupported operand type(s) for ** or pow(): 'str' and 'int'",
     "output_type": "error",
     "traceback": [
      "\u001b[1;31m---------------------------------------------------------------------------\u001b[0m",
      "\u001b[1;31mTypeError\u001b[0m                                 Traceback (most recent call last)",
      "Cell \u001b[1;32mIn[56], line 2\u001b[0m\n\u001b[0;32m      1\u001b[0m \u001b[38;5;28;01mfor\u001b[39;00m i \u001b[38;5;129;01min\u001b[39;00m [\u001b[38;5;124m'\u001b[39m\u001b[38;5;124ma\u001b[39m\u001b[38;5;124m'\u001b[39m,\u001b[38;5;124m'\u001b[39m\u001b[38;5;124mb\u001b[39m\u001b[38;5;124m'\u001b[39m,\u001b[38;5;124m'\u001b[39m\u001b[38;5;124mc\u001b[39m\u001b[38;5;124m'\u001b[39m]:\n\u001b[1;32m----> 2\u001b[0m     \u001b[38;5;28mprint\u001b[39m(i\u001b[38;5;241m*\u001b[39m\u001b[38;5;241m*\u001b[39m\u001b[38;5;241m2\u001b[39m)\n",
      "\u001b[1;31mTypeError\u001b[0m: unsupported operand type(s) for ** or pow(): 'str' and 'int'"
     ]
    }
   ],
   "source": [
    "for i in ['a','b','c']:\n",
    "    print(i**2)"
   ]
  },
  {
   "cell_type": "code",
   "execution_count": 57,
   "id": "3605fc78",
   "metadata": {},
   "outputs": [
    {
     "name": "stdout",
     "output_type": "stream",
     "text": [
      "No se puede elevar al cuadrado el valor: a\n",
      "No se puede elevar al cuadrado el valor: b\n",
      "No se puede elevar al cuadrado el valor: c\n"
     ]
    }
   ],
   "source": [
    "for i in ['a','b','c']:\n",
    "    try:\n",
    "        resultado = i**2\n",
    "        print(resultado)\n",
    "    except TypeError:\n",
    "        print(f\"No se puede elevar al cuadrado el valor: {i}\")"
   ]
  },
  {
   "cell_type": "markdown",
   "id": "bda76246",
   "metadata": {},
   "source": [
    "# Handle the exception thrown by the code below by using try and except blocks. \n",
    "\n",
    "Then use a finally block to print 'All Done.'\n",
    "\n",
    "Check in provided resources the type of error you may use. \n"
   ]
  },
  {
   "cell_type": "code",
   "execution_count": 58,
   "id": "441acd1c",
   "metadata": {},
   "outputs": [
    {
     "ename": "ZeroDivisionError",
     "evalue": "division by zero",
     "output_type": "error",
     "traceback": [
      "\u001b[1;31m---------------------------------------------------------------------------\u001b[0m",
      "\u001b[1;31mZeroDivisionError\u001b[0m                         Traceback (most recent call last)",
      "Cell \u001b[1;32mIn[58], line 4\u001b[0m\n\u001b[0;32m      1\u001b[0m x \u001b[38;5;241m=\u001b[39m \u001b[38;5;241m5\u001b[39m\n\u001b[0;32m      2\u001b[0m y \u001b[38;5;241m=\u001b[39m \u001b[38;5;241m0\u001b[39m\n\u001b[1;32m----> 4\u001b[0m z \u001b[38;5;241m=\u001b[39m x\u001b[38;5;241m/\u001b[39my\n",
      "\u001b[1;31mZeroDivisionError\u001b[0m: division by zero"
     ]
    }
   ],
   "source": [
    "x = 5\n",
    "y = 0\n",
    "\n",
    "z = x/y"
   ]
  },
  {
   "cell_type": "code",
   "execution_count": 61,
   "id": "976fec9f",
   "metadata": {},
   "outputs": [
    {
     "name": "stdout",
     "output_type": "stream",
     "text": [
      "No se puede dividir entre cero\n"
     ]
    }
   ],
   "source": [
    "x = 5\n",
    "y = 0\n",
    "try:\n",
    "    z = x/y\n",
    "    print(z)\n",
    "except ZeroDivisionError as num:\n",
    "    print(f\"No se puede dividir entre cero\")"
   ]
  },
  {
   "cell_type": "markdown",
   "id": "85ea78c5",
   "metadata": {},
   "source": [
    "# Handle the exception thrown by the code below by using try and except blocks. \n",
    "\n",
    "Check in provided resources the type of error you may use. \n"
   ]
  },
  {
   "cell_type": "code",
   "execution_count": 62,
   "id": "783a8224",
   "metadata": {},
   "outputs": [
    {
     "ename": "IndexError",
     "evalue": "list index out of range",
     "output_type": "error",
     "traceback": [
      "\u001b[1;31m---------------------------------------------------------------------------\u001b[0m",
      "\u001b[1;31mIndexError\u001b[0m                                Traceback (most recent call last)",
      "Cell \u001b[1;32mIn[62], line 2\u001b[0m\n\u001b[0;32m      1\u001b[0m abc\u001b[38;5;241m=\u001b[39m[\u001b[38;5;241m10\u001b[39m,\u001b[38;5;241m20\u001b[39m,\u001b[38;5;241m20\u001b[39m]\n\u001b[1;32m----> 2\u001b[0m \u001b[38;5;28mprint\u001b[39m(abc[\u001b[38;5;241m3\u001b[39m])\n",
      "\u001b[1;31mIndexError\u001b[0m: list index out of range"
     ]
    }
   ],
   "source": [
    "abc=[10,20,20]\n",
    "print(abc[3])"
   ]
  },
  {
   "cell_type": "code",
   "execution_count": 64,
   "id": "cfcf15f0",
   "metadata": {},
   "outputs": [
    {
     "name": "stdout",
     "output_type": "stream",
     "text": [
      "El índice esta fuera de rango\n"
     ]
    }
   ],
   "source": [
    "abc=[10,20,20]\n",
    "\n",
    "try:\n",
    "    elemento = (abc[7])\n",
    "except IndexError as num:\n",
    "    print(f\"El índice esta fuera de rango\")"
   ]
  },
  {
   "cell_type": "markdown",
   "id": "10223640",
   "metadata": {},
   "source": [
    "# Handle at least two kind of different exceptions when dividing a couple of numbers provided by the user. \n",
    "\n",
    "**Hint: take a look on python input function.**\n",
    "\n",
    "Check in provided resources the type of error you may use. "
   ]
  },
  {
   "cell_type": "code",
   "execution_count": 69,
   "id": "3c1f141b",
   "metadata": {},
   "outputs": [
    {
     "name": "stdout",
     "output_type": "stream",
     "text": [
      "Ingrese el primer número: 9\n",
      "Ingrese el segundo número: 0\n",
      "No puedes dividir por cero\n"
     ]
    }
   ],
   "source": [
    "try:\n",
    "    num1=float(input(\"Ingrese el primer número: \"))\n",
    "    num2=float(input(\"Ingrese el segundo número: \"))\n",
    "    resultado= num1/num2\n",
    "except ZeroDivisionError:\n",
    "    print(f\"No puedes dividir por cero\")\n",
    "except ValueError: \n",
    "    print(f\"Ingresa números válidos\")\n",
    "else:\n",
    "    print(f\"El resultado de la división es {resultado}\")\n",
    "    "
   ]
  },
  {
   "cell_type": "markdown",
   "id": "5d712a55",
   "metadata": {},
   "source": [
    "# Handle the exception thrown by the code below by using try and except blocks. \n",
    "\n",
    "Check in provided resources the type of error you may use. "
   ]
  },
  {
   "cell_type": "code",
   "execution_count": 70,
   "id": "b73f824c",
   "metadata": {},
   "outputs": [
    {
     "ename": "FileNotFoundError",
     "evalue": "[Errno 2] No such file or directory: 'testfile'",
     "output_type": "error",
     "traceback": [
      "\u001b[1;31m---------------------------------------------------------------------------\u001b[0m",
      "\u001b[1;31mFileNotFoundError\u001b[0m                         Traceback (most recent call last)",
      "Cell \u001b[1;32mIn[70], line 1\u001b[0m\n\u001b[1;32m----> 1\u001b[0m f \u001b[38;5;241m=\u001b[39m \u001b[38;5;28mopen\u001b[39m(\u001b[38;5;124m'\u001b[39m\u001b[38;5;124mtestfile\u001b[39m\u001b[38;5;124m'\u001b[39m,\u001b[38;5;124m'\u001b[39m\u001b[38;5;124mr\u001b[39m\u001b[38;5;124m'\u001b[39m)\n\u001b[0;32m      2\u001b[0m f\u001b[38;5;241m.\u001b[39mwrite(\u001b[38;5;124m'\u001b[39m\u001b[38;5;124mTest write this\u001b[39m\u001b[38;5;124m'\u001b[39m)\n",
      "File \u001b[1;32m~\\anaconda3\\Lib\\site-packages\\IPython\\core\\interactiveshell.py:284\u001b[0m, in \u001b[0;36m_modified_open\u001b[1;34m(file, *args, **kwargs)\u001b[0m\n\u001b[0;32m    277\u001b[0m \u001b[38;5;28;01mif\u001b[39;00m file \u001b[38;5;129;01min\u001b[39;00m {\u001b[38;5;241m0\u001b[39m, \u001b[38;5;241m1\u001b[39m, \u001b[38;5;241m2\u001b[39m}:\n\u001b[0;32m    278\u001b[0m     \u001b[38;5;28;01mraise\u001b[39;00m \u001b[38;5;167;01mValueError\u001b[39;00m(\n\u001b[0;32m    279\u001b[0m         \u001b[38;5;124mf\u001b[39m\u001b[38;5;124m\"\u001b[39m\u001b[38;5;124mIPython won\u001b[39m\u001b[38;5;124m'\u001b[39m\u001b[38;5;124mt let you open fd=\u001b[39m\u001b[38;5;132;01m{\u001b[39;00mfile\u001b[38;5;132;01m}\u001b[39;00m\u001b[38;5;124m by default \u001b[39m\u001b[38;5;124m\"\u001b[39m\n\u001b[0;32m    280\u001b[0m         \u001b[38;5;124m\"\u001b[39m\u001b[38;5;124mas it is likely to crash IPython. If you know what you are doing, \u001b[39m\u001b[38;5;124m\"\u001b[39m\n\u001b[0;32m    281\u001b[0m         \u001b[38;5;124m\"\u001b[39m\u001b[38;5;124myou can use builtins\u001b[39m\u001b[38;5;124m'\u001b[39m\u001b[38;5;124m open.\u001b[39m\u001b[38;5;124m\"\u001b[39m\n\u001b[0;32m    282\u001b[0m     )\n\u001b[1;32m--> 284\u001b[0m \u001b[38;5;28;01mreturn\u001b[39;00m io_open(file, \u001b[38;5;241m*\u001b[39margs, \u001b[38;5;241m*\u001b[39m\u001b[38;5;241m*\u001b[39mkwargs)\n",
      "\u001b[1;31mFileNotFoundError\u001b[0m: [Errno 2] No such file or directory: 'testfile'"
     ]
    }
   ],
   "source": [
    "f = open('testfile','r')\n",
    "f.write('Test write this')"
   ]
  },
  {
   "cell_type": "code",
   "execution_count": 73,
   "id": "5a1cb361",
   "metadata": {},
   "outputs": [
    {
     "name": "stdout",
     "output_type": "stream",
     "text": [
      "No se puede acceder al archivo\n"
     ]
    }
   ],
   "source": [
    "try:\n",
    "    f = open('testfile','r')\n",
    "    test= f.write('Test write this')\n",
    "except FileNotFoundError as test:\n",
    "    print(f\"No se puede acceder al archivo\")\n",
    "    "
   ]
  },
  {
   "cell_type": "markdown",
   "id": "a028ccb8",
   "metadata": {},
   "source": [
    "# Handle the exceptions that can be thrown by the code below using try and except blocks. \n",
    "\n",
    "**Hint: the file could not exist and the data could not be convertable to int**"
   ]
  },
  {
   "cell_type": "code",
   "execution_count": 77,
   "id": "5f639ab1",
   "metadata": {
    "scrolled": true
   },
   "outputs": [
    {
     "ename": "FileNotFoundError",
     "evalue": "[Errno 2] No such file or directory: 'myfile.txt'",
     "output_type": "error",
     "traceback": [
      "\u001b[1;31m---------------------------------------------------------------------------\u001b[0m",
      "\u001b[1;31mFileNotFoundError\u001b[0m                         Traceback (most recent call last)",
      "Cell \u001b[1;32mIn[77], line 1\u001b[0m\n\u001b[1;32m----> 1\u001b[0m fp \u001b[38;5;241m=\u001b[39m \u001b[38;5;28mopen\u001b[39m(\u001b[38;5;124m'\u001b[39m\u001b[38;5;124mmyfile.txt\u001b[39m\u001b[38;5;124m'\u001b[39m)\n\u001b[0;32m      2\u001b[0m line \u001b[38;5;241m=\u001b[39m f\u001b[38;5;241m.\u001b[39mreadline()\n\u001b[0;32m      3\u001b[0m i \u001b[38;5;241m=\u001b[39m \u001b[38;5;28mint\u001b[39m(s\u001b[38;5;241m.\u001b[39mstrip())\n",
      "File \u001b[1;32m~\\anaconda3\\Lib\\site-packages\\IPython\\core\\interactiveshell.py:284\u001b[0m, in \u001b[0;36m_modified_open\u001b[1;34m(file, *args, **kwargs)\u001b[0m\n\u001b[0;32m    277\u001b[0m \u001b[38;5;28;01mif\u001b[39;00m file \u001b[38;5;129;01min\u001b[39;00m {\u001b[38;5;241m0\u001b[39m, \u001b[38;5;241m1\u001b[39m, \u001b[38;5;241m2\u001b[39m}:\n\u001b[0;32m    278\u001b[0m     \u001b[38;5;28;01mraise\u001b[39;00m \u001b[38;5;167;01mValueError\u001b[39;00m(\n\u001b[0;32m    279\u001b[0m         \u001b[38;5;124mf\u001b[39m\u001b[38;5;124m\"\u001b[39m\u001b[38;5;124mIPython won\u001b[39m\u001b[38;5;124m'\u001b[39m\u001b[38;5;124mt let you open fd=\u001b[39m\u001b[38;5;132;01m{\u001b[39;00mfile\u001b[38;5;132;01m}\u001b[39;00m\u001b[38;5;124m by default \u001b[39m\u001b[38;5;124m\"\u001b[39m\n\u001b[0;32m    280\u001b[0m         \u001b[38;5;124m\"\u001b[39m\u001b[38;5;124mas it is likely to crash IPython. If you know what you are doing, \u001b[39m\u001b[38;5;124m\"\u001b[39m\n\u001b[0;32m    281\u001b[0m         \u001b[38;5;124m\"\u001b[39m\u001b[38;5;124myou can use builtins\u001b[39m\u001b[38;5;124m'\u001b[39m\u001b[38;5;124m open.\u001b[39m\u001b[38;5;124m\"\u001b[39m\n\u001b[0;32m    282\u001b[0m     )\n\u001b[1;32m--> 284\u001b[0m \u001b[38;5;28;01mreturn\u001b[39;00m io_open(file, \u001b[38;5;241m*\u001b[39margs, \u001b[38;5;241m*\u001b[39m\u001b[38;5;241m*\u001b[39mkwargs)\n",
      "\u001b[1;31mFileNotFoundError\u001b[0m: [Errno 2] No such file or directory: 'myfile.txt'"
     ]
    }
   ],
   "source": [
    "fp = open('myfile.txt')\n",
    "line = f.readline()\n",
    "i = int(s.strip())\n"
   ]
  },
  {
   "cell_type": "code",
   "execution_count": 85,
   "id": "be19accb",
   "metadata": {},
   "outputs": [
    {
     "name": "stdout",
     "output_type": "stream",
     "text": [
      "Error: El archivo no existe [Errno 2] No such file or directory: 'myfile.txt'\n"
     ]
    }
   ],
   "source": [
    "try:\n",
    "    fp = open('myfile.txt')\n",
    "    line = f.readline()\n",
    "    i = int(s.strip())\n",
    "except FileNotFoundError as e:\n",
    "    print(f\"Error: El archivo no existe {e}\")"
   ]
  },
  {
   "cell_type": "markdown",
   "id": "d695245b",
   "metadata": {},
   "source": [
    "# The following function can only run on a Linux system. \n",
    "The assert in this function will throw an exception if you call it on an operating system other than Linux.\n",
    "\n",
    "Handle this exception using **try and except** blocks.\n",
    "\n",
    "You will probably need to import sys "
   ]
  },
  {
   "cell_type": "code",
   "execution_count": 87,
   "id": "3f043ef6",
   "metadata": {},
   "outputs": [
    {
     "ename": "AssertionError",
     "evalue": "Function can only run on Linux systems.",
     "output_type": "error",
     "traceback": [
      "\u001b[1;31m---------------------------------------------------------------------------\u001b[0m",
      "\u001b[1;31mAssertionError\u001b[0m                            Traceback (most recent call last)",
      "Cell \u001b[1;32mIn[87], line 5\u001b[0m\n\u001b[0;32m      3\u001b[0m     \u001b[38;5;28;01massert\u001b[39;00m (\u001b[38;5;124m'\u001b[39m\u001b[38;5;124mlinux\u001b[39m\u001b[38;5;124m'\u001b[39m \u001b[38;5;129;01min\u001b[39;00m sys\u001b[38;5;241m.\u001b[39mplatform), \u001b[38;5;124m\"\u001b[39m\u001b[38;5;124mFunction can only run on Linux systems.\u001b[39m\u001b[38;5;124m\"\u001b[39m\n\u001b[0;32m      4\u001b[0m     \u001b[38;5;28mprint\u001b[39m(\u001b[38;5;124m'\u001b[39m\u001b[38;5;124mDoing something.\u001b[39m\u001b[38;5;124m'\u001b[39m)\n\u001b[1;32m----> 5\u001b[0m linux_interaction()\n",
      "Cell \u001b[1;32mIn[87], line 3\u001b[0m, in \u001b[0;36mlinux_interaction\u001b[1;34m()\u001b[0m\n\u001b[0;32m      2\u001b[0m \u001b[38;5;28;01mdef\u001b[39;00m \u001b[38;5;21mlinux_interaction\u001b[39m():\n\u001b[1;32m----> 3\u001b[0m     \u001b[38;5;28;01massert\u001b[39;00m (\u001b[38;5;124m'\u001b[39m\u001b[38;5;124mlinux\u001b[39m\u001b[38;5;124m'\u001b[39m \u001b[38;5;129;01min\u001b[39;00m sys\u001b[38;5;241m.\u001b[39mplatform), \u001b[38;5;124m\"\u001b[39m\u001b[38;5;124mFunction can only run on Linux systems.\u001b[39m\u001b[38;5;124m\"\u001b[39m\n\u001b[0;32m      4\u001b[0m     \u001b[38;5;28mprint\u001b[39m(\u001b[38;5;124m'\u001b[39m\u001b[38;5;124mDoing something.\u001b[39m\u001b[38;5;124m'\u001b[39m)\n",
      "\u001b[1;31mAssertionError\u001b[0m: Function can only run on Linux systems."
     ]
    }
   ],
   "source": [
    "import sys\n",
    "def linux_interaction():\n",
    "    assert ('linux' in sys.platform), \"Function can only run on Linux systems.\"\n",
    "    print('Doing something.')\n",
    "linux_interaction()"
   ]
  },
  {
   "cell_type": "code",
   "execution_count": 92,
   "id": "1643bbed",
   "metadata": {},
   "outputs": [
    {
     "name": "stdout",
     "output_type": "stream",
     "text": [
      "No se puede ejecutar en este sistema operativo Function can only run on Linux systems.\n"
     ]
    }
   ],
   "source": [
    "def linux_interaction():\n",
    "    try:\n",
    "        assert ('linux' in sys.platform), \"Function can only run on Linux systems.\"\n",
    "        print('Doing something.')\n",
    "    except AssertionError as e: \n",
    "        print(f\"No se puede ejecutar en este sistema operativo {e}\")\n",
    "\n",
    "linux_interaction()\n",
    "    "
   ]
  },
  {
   "cell_type": "markdown",
   "id": "9310a60b",
   "metadata": {},
   "source": [
    "\n",
    "# Bonus Questions:"
   ]
  },
  {
   "cell_type": "markdown",
   "id": "2f06d3fd",
   "metadata": {},
   "source": [
    "You will need to make some research on dictionary comprehension to solve the following questions"
   ]
  },
  {
   "cell_type": "markdown",
   "id": "3108ff54",
   "metadata": {},
   "source": [
    "## Write a function that asks for an integer and prints the square of it. \n",
    "\n",
    "**Hint: we need to continually keep checking until we get an integer.**\n",
    "\n",
    "Use a while loop with a try,except, else block to account for incorrect inputs."
   ]
  },
  {
   "cell_type": "code",
   "execution_count": 94,
   "id": "94c2e76e",
   "metadata": {},
   "outputs": [
    {
     "name": "stdout",
     "output_type": "stream",
     "text": [
      "Ingresa un número entero: 7\n",
      "El cuadrado de 7 es 49\n"
     ]
    }
   ],
   "source": [
    "def print_square_of_integer():\n",
    "    while True:\n",
    "        try:\n",
    "             num = int(input(\"Ingresa un número entero: \"))\n",
    "        except ValueError:\n",
    "            print(\"Entrada incorrecta. Debes ingresar un número entero.\")\n",
    "        else:\n",
    "            square = num * num\n",
    "            print(f\"El cuadrado de {num} es {square}\")\n",
    "            break\n",
    "\n",
    "print_square_of_integer()"
   ]
  },
  {
   "cell_type": "markdown",
   "id": "7139da39",
   "metadata": {},
   "source": [
    "\n",
    "## Find all of the numbers from 1-1000 that are divisible by any single digit besides 1 (2-9). \n",
    "\n",
    "Use results as the name of the list \n"
   ]
  },
  {
   "cell_type": "code",
   "execution_count": 99,
   "id": "90d3aa37",
   "metadata": {},
   "outputs": [
    {
     "name": "stdout",
     "output_type": "stream",
     "text": [
      "[2, 3, 4, 4, 5, 6, 6, 6, 7, 8, 8, 8, 9, 9, 10, 10, 12, 12, 12, 12, 14, 14, 15, 15, 16, 16, 16, 18, 18, 18, 18, 20, 20, 20, 21, 21, 22, 24, 24, 24, 24, 24, 25, 26, 27, 27, 28, 28, 28, 30, 30, 30, 30, 32, 32, 32, 33, 34, 35, 35, 36, 36, 36, 36, 36, 38, 39, 40, 40, 40, 40, 42, 42, 42, 42, 44, 44, 45, 45, 45, 46, 48, 48, 48, 48, 48, 49, 50, 50, 51, 52, 52, 54, 54, 54, 54, 55, 56, 56, 56, 56, 57, 58, 60, 60, 60, 60, 60, 62, 63, 63, 63, 64, 64, 64, 65, 66, 66, 66, 68, 68, 69, 70, 70, 70, 72, 72, 72, 72, 72, 72, 74, 75, 75, 76, 76, 77, 78, 78, 78, 80, 80, 80, 80, 81, 81, 82, 84, 84, 84, 84, 84, 85, 86, 87, 88, 88, 88, 90, 90, 90, 90, 90, 91, 92, 92, 93, 94, 95, 96, 96, 96, 96, 96, 98, 98, 99, 99, 100, 100, 100, 102, 102, 102, 104, 104, 104, 105, 105, 105, 106, 108, 108, 108, 108, 108, 110, 110, 111, 112, 112, 112, 112, 114, 114, 114, 115, 116, 116, 117, 117, 118, 119, 120, 120, 120, 120, 120, 120, 122, 123, 124, 124, 125, 126, 126, 126, 126, 126, 128, 128, 128, 129, 130, 130, 132, 132, 132, 132, 133, 134, 135, 135, 135, 136, 136, 136, 138, 138, 138, 140, 140, 140, 140, 141, 142, 144, 144, 144, 144, 144, 144, 145, 146, 147, 147, 148, 148, 150, 150, 150, 150, 152, 152, 152, 153, 153, 154, 154, 155, 156, 156, 156, 156, 158, 159, 160, 160, 160, 160, 161, 162, 162, 162, 162, 164, 164, 165, 165, 166, 168, 168, 168, 168, 168, 168, 170, 170, 171, 171, 172, 172, 174, 174, 174, 175, 175, 176, 176, 176, 177, 178, 180, 180, 180, 180, 180, 180, 182, 182, 183, 184, 184, 184, 185, 186, 186, 186, 188, 188, 189, 189, 189, 190, 190, 192, 192, 192, 192, 192, 194, 195, 195, 196, 196, 196, 198, 198, 198, 198, 200, 200, 200, 200, 201, 202, 203, 204, 204, 204, 204, 205, 206, 207, 207, 208, 208, 208, 210, 210, 210, 210, 210, 212, 212, 213, 214, 215, 216, 216, 216, 216, 216, 216, 217, 218, 219, 220, 220, 220, 222, 222, 222, 224, 224, 224, 224, 225, 225, 225, 226, 228, 228, 228, 228, 230, 230, 231, 231, 232, 232, 232, 234, 234, 234, 234, 235, 236, 236, 237, 238, 238, 240, 240, 240, 240, 240, 240, 242, 243, 243, 244, 244, 245, 245, 246, 246, 246, 248, 248, 248, 249, 250, 250, 252, 252, 252, 252, 252, 252, 254, 255, 255, 256, 256, 256, 258, 258, 258, 259, 260, 260, 260, 261, 261, 262, 264, 264, 264, 264, 264, 265, 266, 266, 267, 268, 268, 270, 270, 270, 270, 270, 272, 272, 272, 273, 273, 274, 275, 276, 276, 276, 276, 278, 279, 279, 280, 280, 280, 280, 280, 282, 282, 282, 284, 284, 285, 285, 286, 287, 288, 288, 288, 288, 288, 288, 290, 290, 291, 292, 292, 294, 294, 294, 294, 295, 296, 296, 296, 297, 297, 298, 300, 300, 300, 300, 300, 301, 302, 303, 304, 304, 304, 305, 306, 306, 306, 306, 308, 308, 308, 309, 310, 310, 312, 312, 312, 312, 312, 314, 315, 315, 315, 315, 316, 316, 318, 318, 318, 320, 320, 320, 320, 321, 322, 322, 324, 324, 324, 324, 324, 325, 326, 327, 328, 328, 328, 329, 330, 330, 330, 330, 332, 332, 333, 333, 334, 335, 336, 336, 336, 336, 336, 336, 338, 339, 340, 340, 340, 342, 342, 342, 342, 343, 344, 344, 344, 345, 345, 346, 348, 348, 348, 348, 350, 350, 350, 351, 351, 352, 352, 352, 354, 354, 354, 355, 356, 356, 357, 357, 358, 360, 360, 360, 360, 360, 360, 360, 362, 363, 364, 364, 364, 365, 366, 366, 366, 368, 368, 368, 369, 369, 370, 370, 371, 372, 372, 372, 372, 374, 375, 375, 376, 376, 376, 378, 378, 378, 378, 378, 380, 380, 380, 381, 382, 384, 384, 384, 384, 384, 385, 385, 386, 387, 387, 388, 388, 390, 390, 390, 390, 392, 392, 392, 392, 393, 394, 395, 396, 396, 396, 396, 396, 398, 399, 399, 400, 400, 400, 400, 402, 402, 402, 404, 404, 405, 405, 405, 406, 406, 408, 408, 408, 408, 408, 410, 410, 411, 412, 412, 413, 414, 414, 414, 414, 415, 416, 416, 416, 417, 418, 420, 420, 420, 420, 420, 420, 422, 423, 423, 424, 424, 424, 425, 426, 426, 426, 427, 428, 428, 429, 430, 430, 432, 432, 432, 432, 432, 432, 434, 434, 435, 435, 436, 436, 438, 438, 438, 440, 440, 440, 440, 441, 441, 441, 442, 444, 444, 444, 444, 445, 446, 447, 448, 448, 448, 448, 450, 450, 450, 450, 450, 452, 452, 453, 454, 455, 455, 456, 456, 456, 456, 456, 458, 459, 459, 460, 460, 460, 462, 462, 462, 462, 464, 464, 464, 465, 465, 466, 468, 468, 468, 468, 468, 469, 470, 470, 471, 472, 472, 472, 474, 474, 474, 475, 476, 476, 476, 477, 477, 478, 480, 480, 480, 480, 480, 480, 482, 483, 483, 484, 484, 485, 486, 486, 486, 486, 488, 488, 488, 489, 490, 490, 490, 492, 492, 492, 492, 494, 495, 495, 495, 496, 496, 496, 497, 498, 498, 498, 500, 500, 500, 501, 502, 504, 504, 504, 504, 504, 504, 504, 505, 506, 507, 508, 508, 510, 510, 510, 510, 511, 512, 512, 512, 513, 513, 514, 515, 516, 516, 516, 516, 518, 518, 519, 520, 520, 520, 520, 522, 522, 522, 522, 524, 524, 525, 525, 525, 526, 528, 528, 528, 528, 528, 530, 530, 531, 531, 532, 532, 532, 534, 534, 534, 535, 536, 536, 536, 537, 538, 539, 540, 540, 540, 540, 540, 540, 542, 543, 544, 544, 544, 545, 546, 546, 546, 546, 548, 548, 549, 549, 550, 550, 552, 552, 552, 552, 552, 553, 554, 555, 555, 556, 556, 558, 558, 558, 558, 560, 560, 560, 560, 560, 561, 562, 564, 564, 564, 564, 565, 566, 567, 567, 567, 568, 568, 568, 570, 570, 570, 570, 572, 572, 573, 574, 574, 575, 576, 576, 576, 576, 576, 576, 578, 579, 580, 580, 580, 581, 582, 582, 582, 584, 584, 584, 585, 585, 585, 586, 588, 588, 588, 588, 588, 590, 590, 591, 592, 592, 592, 594, 594, 594, 594, 595, 595, 596, 596, 597, 598, 600, 600, 600, 600, 600, 600, 602, 602, 603, 603, 604, 604, 605, 606, 606, 606, 608, 608, 608, 609, 609, 610, 610, 612, 612, 612, 612, 612, 614, 615, 615, 616, 616, 616, 616, 618, 618, 618, 620, 620, 620, 621, 621, 622, 623, 624, 624, 624, 624, 624, 625, 626, 627, 628, 628, 630, 630, 630, 630, 630, 630, 632, 632, 632, 633, 634, 635, 636, 636, 636, 636, 637, 638, 639, 639, 640, 640, 640, 640, 642, 642, 642, 644, 644, 644, 645, 645, 646, 648, 648, 648, 648, 648, 648, 650, 650, 651, 651, 652, 652, 654, 654, 654, 655, 656, 656, 656, 657, 657, 658, 658, 660, 660, 660, 660, 660, 662, 663, 664, 664, 664, 665, 665, 666, 666, 666, 666, 668, 668, 669, 670, 670, 672, 672, 672, 672, 672, 672, 674, 675, 675, 675, 676, 676, 678, 678, 678, 679, 680, 680, 680, 680, 681, 682, 684, 684, 684, 684, 684, 685, 686, 686, 687, 688, 688, 688, 690, 690, 690, 690, 692, 692, 693, 693, 693, 694, 695, 696, 696, 696, 696, 696, 698, 699, 700, 700, 700, 700, 702, 702, 702, 702, 704, 704, 704, 705, 705, 706, 707, 708, 708, 708, 708, 710, 710, 711, 711, 712, 712, 712, 714, 714, 714, 714, 715, 716, 716, 717, 718, 720, 720, 720, 720, 720, 720, 720, 721, 722, 723, 724, 724, 725, 726, 726, 726, 728, 728, 728, 728, 729, 729, 730, 730, 732, 732, 732, 732, 734, 735, 735, 735, 736, 736, 736, 738, 738, 738, 738, 740, 740, 740, 741, 742, 742, 744, 744, 744, 744, 744, 745, 746, 747, 747, 748, 748, 749, 750, 750, 750, 750, 752, 752, 752, 753, 754, 755, 756, 756, 756, 756, 756, 756, 758, 759, 760, 760, 760, 760, 762, 762, 762, 763, 764, 764, 765, 765, 765, 766, 768, 768, 768, 768, 768, 770, 770, 770, 771, 772, 772, 774, 774, 774, 774, 775, 776, 776, 776, 777, 777, 778, 780, 780, 780, 780, 780, 782, 783, 783, 784, 784, 784, 784, 785, 786, 786, 786, 788, 788, 789, 790, 790, 791, 792, 792, 792, 792, 792, 792, 794, 795, 795, 796, 796, 798, 798, 798, 798, 800, 800, 800, 800, 801, 801, 802, 804, 804, 804, 804, 805, 805, 806, 807, 808, 808, 808, 810, 810, 810, 810, 810, 812, 812, 812, 813, 814, 815, 816, 816, 816, 816, 816, 818, 819, 819, 819, 820, 820, 820, 822, 822, 822, 824, 824, 824, 825, 825, 826, 826, 828, 828, 828, 828, 828, 830, 830, 831, 832, 832, 832, 833, 834, 834, 834, 835, 836, 836, 837, 837, 838, 840, 840, 840, 840, 840, 840, 840, 842, 843, 844, 844, 845, 846, 846, 846, 846, 847, 848, 848, 848, 849, 850, 850, 852, 852, 852, 852, 854, 854, 855, 855, 855, 856, 856, 856, 858, 858, 858, 860, 860, 860, 861, 861, 862, 864, 864, 864, 864, 864, 864, 865, 866, 867, 868, 868, 868, 870, 870, 870, 870, 872, 872, 872, 873, 873, 874, 875, 875, 876, 876, 876, 876, 878, 879, 880, 880, 880, 880, 882, 882, 882, 882, 882, 884, 884, 885, 885, 886, 888, 888, 888, 888, 888, 889, 890, 890, 891, 891, 892, 892, 894, 894, 894, 895, 896, 896, 896, 896, 897, 898, 900, 900, 900, 900, 900, 900, 902, 903, 903, 904, 904, 904, 905, 906, 906, 906, 908, 908, 909, 909, 910, 910, 910, 912, 912, 912, 912, 912, 914, 915, 915, 916, 916, 917, 918, 918, 918, 918, 920, 920, 920, 920, 921, 922, 924, 924, 924, 924, 924, 925, 926, 927, 927, 928, 928, 928, 930, 930, 930, 930, 931, 932, 932, 933, 934, 935, 936, 936, 936, 936, 936, 936, 938, 938, 939, 940, 940, 940, 942, 942, 942, 944, 944, 944, 945, 945, 945, 945, 946, 948, 948, 948, 948, 950, 950, 951, 952, 952, 952, 952, 954, 954, 954, 954, 955, 956, 956, 957, 958, 959, 960, 960, 960, 960, 960, 960, 962, 963, 963, 964, 964, 965, 966, 966, 966, 966, 968, 968, 968, 969, 970, 970, 972, 972, 972, 972, 972, 973, 974, 975, 975, 976, 976, 976, 978, 978, 978, 980, 980, 980, 980, 981, 981, 982, 984, 984, 984, 984, 984, 985, 986, 987, 987, 988, 988, 990, 990, 990, 990, 990, 992, 992, 992, 993, 994, 994, 995, 996, 996, 996, 996, 998, 999, 999, 1000, 1000, 1000, 1000]\n"
     ]
    }
   ],
   "source": [
    "resultados=[]\n",
    "for num in range(1,1001):\n",
    "    for digit in range(2,10):\n",
    "        if num % digit==0:\n",
    "            resultados.append(num)\n",
    "print(resultados)"
   ]
  },
  {
   "cell_type": "markdown",
   "id": "e4791228",
   "metadata": {},
   "source": [
    "## Define a customised exception to handle not accepted values. \n",
    "\n",
    "You have the following user inputs and the Num_of_sections can not be less than 2.\n",
    "\n",
    "**Hint: Create a class derived from the pre-defined Exception class in Python**"
   ]
  },
  {
   "cell_type": "code",
   "execution_count": null,
   "id": "86fa19bf",
   "metadata": {},
   "outputs": [],
   "source": [
    "Total_Marks = int(input(\"Enter Total Marks Scored: \")) \n",
    "Num_of_Sections = int(input(\"Enter Num of Sections: \"))"
   ]
  },
  {
   "cell_type": "code",
   "execution_count": null,
   "id": "f80bb764",
   "metadata": {},
   "outputs": [],
   "source": []
  }
 ],
 "metadata": {
  "kernelspec": {
   "display_name": "Python 3 (ipykernel)",
   "language": "python",
   "name": "python3"
  },
  "language_info": {
   "codemirror_mode": {
    "name": "ipython",
    "version": 3
   },
   "file_extension": ".py",
   "mimetype": "text/x-python",
   "name": "python",
   "nbconvert_exporter": "python",
   "pygments_lexer": "ipython3",
   "version": "3.11.4"
  },
  "toc": {
   "base_numbering": 1,
   "nav_menu": {},
   "number_sections": true,
   "sideBar": true,
   "skip_h1_title": false,
   "title_cell": "Table of Contents",
   "title_sidebar": "Contents",
   "toc_cell": false,
   "toc_position": {},
   "toc_section_display": true,
   "toc_window_display": false
  }
 },
 "nbformat": 4,
 "nbformat_minor": 5
}
